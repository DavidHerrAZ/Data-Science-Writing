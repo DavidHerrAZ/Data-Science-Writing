{
 "metadata": {
  "language_info": {
   "codemirror_mode": {
    "name": "ipython",
    "version": 3
   },
   "file_extension": ".py",
   "mimetype": "text/x-python",
   "name": "python",
   "nbconvert_exporter": "python",
   "pygments_lexer": "ipython3",
   "version": "3.7.6-final"
  },
  "orig_nbformat": 2,
  "kernelspec": {
   "name": "python3",
   "display_name": "Python 3"
  }
 },
 "nbformat": 4,
 "nbformat_minor": 2,
 "cells": [
  {
   "cell_type": "markdown",
   "metadata": {},
   "source": [
    "# Writing A Data Science Blog Post\n",
    "## \n",
    "\n",
    "### By: David Herr\n",
    "### Dated: August 2nd, 2020\n",
    "\n",
    "A Jupyter notebook aimed to complete the Udacity Data Science Nanodegree Project 1. In the project, students are to use the CRISP-DM process to understand, prepare, model, and evaluate data to answer real-world business questions.\n",
    "\n",
    "First, we'll bring in the packages used to complete the project."
   ]
  },
  {
   "cell_type": "code",
   "execution_count": 35,
   "metadata": {},
   "outputs": [
    {
     "output_type": "stream",
     "name": "stderr",
     "text": [
      "[nltk_data] Downloading package punkt to\n[nltk_data]     C:\\Users\\dlher\\AppData\\Roaming\\nltk_data...\n[nltk_data]   Package punkt is already up-to-date!\n[nltk_data] Downloading package stopwords to\n[nltk_data]     C:\\Users\\dlher\\AppData\\Roaming\\nltk_data...\n[nltk_data]   Package stopwords is already up-to-date!\n[nltk_data] Downloading package wordnet to\n[nltk_data]     C:\\Users\\dlher\\AppData\\Roaming\\nltk_data...\n[nltk_data]   Package wordnet is already up-to-date!\n"
     ]
    }
   ],
   "source": [
    "# data import and manipulation \n",
    "import numpy as np\n",
    "import pandas as pd\n",
    "\n",
    "# plotting and graphing\n",
    "import matplotlib.pyplot as plt\n",
    "import seaborn as sns\n",
    "%matplotlib inline\n",
    "\n",
    "# text analysis, mining, and sentiment\n",
    "import re\n",
    "import nltk\n",
    "from nltk.corpus import stopwords\n",
    "from nltk.stem.wordnet import WordNetLemmatizer\n",
    "from nltk.tokenize import word_tokenize\n",
    "\n",
    "nltk.download('punkt')\n",
    "nltk.download('stopwords')\n",
    "nltk.download('wordnet')\n",
    "\n",
    "# linear regression\n",
    "from sklearn.linear_model import LinearRegression\n",
    "from sklearn.model_selection import train_test_split\n",
    "from sklearn.metrics import r2_score, mean_squared_error"
   ]
  },
  {
   "cell_type": "markdown",
   "metadata": {},
   "source": [
    "#### 1) Pick A Dataset\n",
    "\n",
    "Although the traditional CRISP-DM path is to start with business questions, the Udacity Data Science program provided datasets to start with. Thus, we'll start with those datasets and read them in to the notebook."
   ]
  },
  {
   "cell_type": "code",
   "execution_count": 36,
   "metadata": {},
   "outputs": [
    {
     "output_type": "execute_result",
     "data": {
      "text/plain": [
       "         id                            listing_url       scrape_id  \\\n",
       "0  12147973  https://www.airbnb.com/rooms/12147973  20160906204935   \n",
       "1   3075044   https://www.airbnb.com/rooms/3075044  20160906204935   \n",
       "2      6976      https://www.airbnb.com/rooms/6976  20160906204935   \n",
       "3   1436513   https://www.airbnb.com/rooms/1436513  20160906204935   \n",
       "4   7651065   https://www.airbnb.com/rooms/7651065  20160906204935   \n",
       "\n",
       "  last_scraped                                           name  \\\n",
       "0   2016-09-07                     Sunny Bungalow in the City   \n",
       "1   2016-09-07              Charming room in pet friendly apt   \n",
       "2   2016-09-07               Mexican Folk Art Haven in Boston   \n",
       "3   2016-09-07  Spacious Sunny Bedroom Suite in Historic Home   \n",
       "4   2016-09-07                            Come Home to Boston   \n",
       "\n",
       "                                             summary  \\\n",
       "0  Cozy, sunny, family home.  Master bedroom high...   \n",
       "1  Charming and quiet room in a second floor 1910...   \n",
       "2  Come stay with a friendly, middle-aged guy in ...   \n",
       "3  Come experience the comforts of home away from...   \n",
       "4  My comfy, clean and relaxing home is one block...   \n",
       "\n",
       "                                               space  \\\n",
       "0  The house has an open and cozy feel at the sam...   \n",
       "1  Small but cozy and quite room with a full size...   \n",
       "2  Come stay with a friendly, middle-aged guy in ...   \n",
       "3  Most places you find in Boston are small howev...   \n",
       "4  Clean, attractive, private room, one block fro...   \n",
       "\n",
       "                                         description experiences_offered  \\\n",
       "0  Cozy, sunny, family home.  Master bedroom high...                none   \n",
       "1  Charming and quiet room in a second floor 1910...                none   \n",
       "2  Come stay with a friendly, middle-aged guy in ...                none   \n",
       "3  Come experience the comforts of home away from...                none   \n",
       "4  My comfy, clean and relaxing home is one block...                none   \n",
       "\n",
       "                               neighborhood_overview  ... review_scores_value  \\\n",
       "0  Roslindale is quiet, convenient and friendly. ...  ...                 NaN   \n",
       "1  The room is in Roslindale, a diverse and prima...  ...                 9.0   \n",
       "2  The LOCATION: Roslindale is a safe and diverse...  ...                10.0   \n",
       "3  Roslindale is a lovely little neighborhood loc...  ...                10.0   \n",
       "4  I love the proximity to downtown, the neighbor...  ...                10.0   \n",
       "\n",
       "  requires_license license jurisdiction_names instant_bookable  \\\n",
       "0                f     NaN                NaN                f   \n",
       "1                f     NaN                NaN                t   \n",
       "2                f     NaN                NaN                f   \n",
       "3                f     NaN                NaN                f   \n",
       "4                f     NaN                NaN                f   \n",
       "\n",
       "  cancellation_policy require_guest_profile_picture  \\\n",
       "0            moderate                             f   \n",
       "1            moderate                             f   \n",
       "2            moderate                             t   \n",
       "3            moderate                             f   \n",
       "4            flexible                             f   \n",
       "\n",
       "  require_guest_phone_verification calculated_host_listings_count  \\\n",
       "0                                f                              1   \n",
       "1                                f                              1   \n",
       "2                                f                              1   \n",
       "3                                f                              1   \n",
       "4                                f                              1   \n",
       "\n",
       "   reviews_per_month  \n",
       "0                NaN  \n",
       "1               1.30  \n",
       "2               0.47  \n",
       "3               1.00  \n",
       "4               2.25  \n",
       "\n",
       "[5 rows x 95 columns]"
      ],
      "text/html": "<div>\n<style scoped>\n    .dataframe tbody tr th:only-of-type {\n        vertical-align: middle;\n    }\n\n    .dataframe tbody tr th {\n        vertical-align: top;\n    }\n\n    .dataframe thead th {\n        text-align: right;\n    }\n</style>\n<table border=\"1\" class=\"dataframe\">\n  <thead>\n    <tr style=\"text-align: right;\">\n      <th></th>\n      <th>id</th>\n      <th>listing_url</th>\n      <th>scrape_id</th>\n      <th>last_scraped</th>\n      <th>name</th>\n      <th>summary</th>\n      <th>space</th>\n      <th>description</th>\n      <th>experiences_offered</th>\n      <th>neighborhood_overview</th>\n      <th>...</th>\n      <th>review_scores_value</th>\n      <th>requires_license</th>\n      <th>license</th>\n      <th>jurisdiction_names</th>\n      <th>instant_bookable</th>\n      <th>cancellation_policy</th>\n      <th>require_guest_profile_picture</th>\n      <th>require_guest_phone_verification</th>\n      <th>calculated_host_listings_count</th>\n      <th>reviews_per_month</th>\n    </tr>\n  </thead>\n  <tbody>\n    <tr>\n      <th>0</th>\n      <td>12147973</td>\n      <td>https://www.airbnb.com/rooms/12147973</td>\n      <td>20160906204935</td>\n      <td>2016-09-07</td>\n      <td>Sunny Bungalow in the City</td>\n      <td>Cozy, sunny, family home.  Master bedroom high...</td>\n      <td>The house has an open and cozy feel at the sam...</td>\n      <td>Cozy, sunny, family home.  Master bedroom high...</td>\n      <td>none</td>\n      <td>Roslindale is quiet, convenient and friendly. ...</td>\n      <td>...</td>\n      <td>NaN</td>\n      <td>f</td>\n      <td>NaN</td>\n      <td>NaN</td>\n      <td>f</td>\n      <td>moderate</td>\n      <td>f</td>\n      <td>f</td>\n      <td>1</td>\n      <td>NaN</td>\n    </tr>\n    <tr>\n      <th>1</th>\n      <td>3075044</td>\n      <td>https://www.airbnb.com/rooms/3075044</td>\n      <td>20160906204935</td>\n      <td>2016-09-07</td>\n      <td>Charming room in pet friendly apt</td>\n      <td>Charming and quiet room in a second floor 1910...</td>\n      <td>Small but cozy and quite room with a full size...</td>\n      <td>Charming and quiet room in a second floor 1910...</td>\n      <td>none</td>\n      <td>The room is in Roslindale, a diverse and prima...</td>\n      <td>...</td>\n      <td>9.0</td>\n      <td>f</td>\n      <td>NaN</td>\n      <td>NaN</td>\n      <td>t</td>\n      <td>moderate</td>\n      <td>f</td>\n      <td>f</td>\n      <td>1</td>\n      <td>1.30</td>\n    </tr>\n    <tr>\n      <th>2</th>\n      <td>6976</td>\n      <td>https://www.airbnb.com/rooms/6976</td>\n      <td>20160906204935</td>\n      <td>2016-09-07</td>\n      <td>Mexican Folk Art Haven in Boston</td>\n      <td>Come stay with a friendly, middle-aged guy in ...</td>\n      <td>Come stay with a friendly, middle-aged guy in ...</td>\n      <td>Come stay with a friendly, middle-aged guy in ...</td>\n      <td>none</td>\n      <td>The LOCATION: Roslindale is a safe and diverse...</td>\n      <td>...</td>\n      <td>10.0</td>\n      <td>f</td>\n      <td>NaN</td>\n      <td>NaN</td>\n      <td>f</td>\n      <td>moderate</td>\n      <td>t</td>\n      <td>f</td>\n      <td>1</td>\n      <td>0.47</td>\n    </tr>\n    <tr>\n      <th>3</th>\n      <td>1436513</td>\n      <td>https://www.airbnb.com/rooms/1436513</td>\n      <td>20160906204935</td>\n      <td>2016-09-07</td>\n      <td>Spacious Sunny Bedroom Suite in Historic Home</td>\n      <td>Come experience the comforts of home away from...</td>\n      <td>Most places you find in Boston are small howev...</td>\n      <td>Come experience the comforts of home away from...</td>\n      <td>none</td>\n      <td>Roslindale is a lovely little neighborhood loc...</td>\n      <td>...</td>\n      <td>10.0</td>\n      <td>f</td>\n      <td>NaN</td>\n      <td>NaN</td>\n      <td>f</td>\n      <td>moderate</td>\n      <td>f</td>\n      <td>f</td>\n      <td>1</td>\n      <td>1.00</td>\n    </tr>\n    <tr>\n      <th>4</th>\n      <td>7651065</td>\n      <td>https://www.airbnb.com/rooms/7651065</td>\n      <td>20160906204935</td>\n      <td>2016-09-07</td>\n      <td>Come Home to Boston</td>\n      <td>My comfy, clean and relaxing home is one block...</td>\n      <td>Clean, attractive, private room, one block fro...</td>\n      <td>My comfy, clean and relaxing home is one block...</td>\n      <td>none</td>\n      <td>I love the proximity to downtown, the neighbor...</td>\n      <td>...</td>\n      <td>10.0</td>\n      <td>f</td>\n      <td>NaN</td>\n      <td>NaN</td>\n      <td>f</td>\n      <td>flexible</td>\n      <td>f</td>\n      <td>f</td>\n      <td>1</td>\n      <td>2.25</td>\n    </tr>\n  </tbody>\n</table>\n<p>5 rows × 95 columns</p>\n</div>"
     },
     "metadata": {},
     "execution_count": 36
    }
   ],
   "source": [
    "# Read in Boston dataset\n",
    "df_boston = pd.read_csv('./_data/listings_boston.csv')\n",
    "\n",
    "df_boston.head()"
   ]
  },
  {
   "cell_type": "code",
   "execution_count": 37,
   "metadata": {},
   "outputs": [
    {
     "output_type": "execute_result",
     "data": {
      "text/plain": [
       "        id                           listing_url       scrape_id last_scraped  \\\n",
       "0   241032   https://www.airbnb.com/rooms/241032  20160104002432   2016-01-04   \n",
       "1   953595   https://www.airbnb.com/rooms/953595  20160104002432   2016-01-04   \n",
       "2  3308979  https://www.airbnb.com/rooms/3308979  20160104002432   2016-01-04   \n",
       "3  7421966  https://www.airbnb.com/rooms/7421966  20160104002432   2016-01-04   \n",
       "4   278830   https://www.airbnb.com/rooms/278830  20160104002432   2016-01-04   \n",
       "\n",
       "                                  name  \\\n",
       "0         Stylish Queen Anne Apartment   \n",
       "1   Bright & Airy Queen Anne Apartment   \n",
       "2  New Modern House-Amazing water view   \n",
       "3                   Queen Anne Chateau   \n",
       "4       Charming craftsman 3 bdm house   \n",
       "\n",
       "                                             summary  \\\n",
       "0                                                NaN   \n",
       "1  Chemically sensitive? We've removed the irrita...   \n",
       "2  New modern house built in 2013.  Spectacular s...   \n",
       "3  A charming apartment that sits atop Queen Anne...   \n",
       "4  Cozy family craftman house in beautiful neighb...   \n",
       "\n",
       "                                               space  \\\n",
       "0  Make your self at home in this charming one-be...   \n",
       "1  Beautiful, hypoallergenic apartment in an extr...   \n",
       "2  Our house is modern, light and fresh with a wa...   \n",
       "3                                                NaN   \n",
       "4  Cozy family craftman house in beautiful neighb...   \n",
       "\n",
       "                                         description experiences_offered  \\\n",
       "0  Make your self at home in this charming one-be...                none   \n",
       "1  Chemically sensitive? We've removed the irrita...                none   \n",
       "2  New modern house built in 2013.  Spectacular s...                none   \n",
       "3  A charming apartment that sits atop Queen Anne...                none   \n",
       "4  Cozy family craftman house in beautiful neighb...                none   \n",
       "\n",
       "                               neighborhood_overview  ... review_scores_value  \\\n",
       "0                                                NaN  ...                10.0   \n",
       "1  Queen Anne is a wonderful, truly functional vi...  ...                10.0   \n",
       "2  Upper Queen Anne is a charming neighborhood fu...  ...                10.0   \n",
       "3                                                NaN  ...                 NaN   \n",
       "4  We are in the beautiful neighborhood of Queen ...  ...                 9.0   \n",
       "\n",
       "  requires_license license jurisdiction_names instant_bookable  \\\n",
       "0                f     NaN         WASHINGTON                f   \n",
       "1                f     NaN         WASHINGTON                f   \n",
       "2                f     NaN         WASHINGTON                f   \n",
       "3                f     NaN         WASHINGTON                f   \n",
       "4                f     NaN         WASHINGTON                f   \n",
       "\n",
       "  cancellation_policy  require_guest_profile_picture  \\\n",
       "0            moderate                              f   \n",
       "1              strict                              t   \n",
       "2              strict                              f   \n",
       "3            flexible                              f   \n",
       "4              strict                              f   \n",
       "\n",
       "  require_guest_phone_verification calculated_host_listings_count  \\\n",
       "0                                f                              2   \n",
       "1                                t                              6   \n",
       "2                                f                              2   \n",
       "3                                f                              1   \n",
       "4                                f                              1   \n",
       "\n",
       "  reviews_per_month  \n",
       "0              4.07  \n",
       "1              1.48  \n",
       "2              1.15  \n",
       "3               NaN  \n",
       "4              0.89  \n",
       "\n",
       "[5 rows x 92 columns]"
      ],
      "text/html": "<div>\n<style scoped>\n    .dataframe tbody tr th:only-of-type {\n        vertical-align: middle;\n    }\n\n    .dataframe tbody tr th {\n        vertical-align: top;\n    }\n\n    .dataframe thead th {\n        text-align: right;\n    }\n</style>\n<table border=\"1\" class=\"dataframe\">\n  <thead>\n    <tr style=\"text-align: right;\">\n      <th></th>\n      <th>id</th>\n      <th>listing_url</th>\n      <th>scrape_id</th>\n      <th>last_scraped</th>\n      <th>name</th>\n      <th>summary</th>\n      <th>space</th>\n      <th>description</th>\n      <th>experiences_offered</th>\n      <th>neighborhood_overview</th>\n      <th>...</th>\n      <th>review_scores_value</th>\n      <th>requires_license</th>\n      <th>license</th>\n      <th>jurisdiction_names</th>\n      <th>instant_bookable</th>\n      <th>cancellation_policy</th>\n      <th>require_guest_profile_picture</th>\n      <th>require_guest_phone_verification</th>\n      <th>calculated_host_listings_count</th>\n      <th>reviews_per_month</th>\n    </tr>\n  </thead>\n  <tbody>\n    <tr>\n      <th>0</th>\n      <td>241032</td>\n      <td>https://www.airbnb.com/rooms/241032</td>\n      <td>20160104002432</td>\n      <td>2016-01-04</td>\n      <td>Stylish Queen Anne Apartment</td>\n      <td>NaN</td>\n      <td>Make your self at home in this charming one-be...</td>\n      <td>Make your self at home in this charming one-be...</td>\n      <td>none</td>\n      <td>NaN</td>\n      <td>...</td>\n      <td>10.0</td>\n      <td>f</td>\n      <td>NaN</td>\n      <td>WASHINGTON</td>\n      <td>f</td>\n      <td>moderate</td>\n      <td>f</td>\n      <td>f</td>\n      <td>2</td>\n      <td>4.07</td>\n    </tr>\n    <tr>\n      <th>1</th>\n      <td>953595</td>\n      <td>https://www.airbnb.com/rooms/953595</td>\n      <td>20160104002432</td>\n      <td>2016-01-04</td>\n      <td>Bright &amp; Airy Queen Anne Apartment</td>\n      <td>Chemically sensitive? We've removed the irrita...</td>\n      <td>Beautiful, hypoallergenic apartment in an extr...</td>\n      <td>Chemically sensitive? We've removed the irrita...</td>\n      <td>none</td>\n      <td>Queen Anne is a wonderful, truly functional vi...</td>\n      <td>...</td>\n      <td>10.0</td>\n      <td>f</td>\n      <td>NaN</td>\n      <td>WASHINGTON</td>\n      <td>f</td>\n      <td>strict</td>\n      <td>t</td>\n      <td>t</td>\n      <td>6</td>\n      <td>1.48</td>\n    </tr>\n    <tr>\n      <th>2</th>\n      <td>3308979</td>\n      <td>https://www.airbnb.com/rooms/3308979</td>\n      <td>20160104002432</td>\n      <td>2016-01-04</td>\n      <td>New Modern House-Amazing water view</td>\n      <td>New modern house built in 2013.  Spectacular s...</td>\n      <td>Our house is modern, light and fresh with a wa...</td>\n      <td>New modern house built in 2013.  Spectacular s...</td>\n      <td>none</td>\n      <td>Upper Queen Anne is a charming neighborhood fu...</td>\n      <td>...</td>\n      <td>10.0</td>\n      <td>f</td>\n      <td>NaN</td>\n      <td>WASHINGTON</td>\n      <td>f</td>\n      <td>strict</td>\n      <td>f</td>\n      <td>f</td>\n      <td>2</td>\n      <td>1.15</td>\n    </tr>\n    <tr>\n      <th>3</th>\n      <td>7421966</td>\n      <td>https://www.airbnb.com/rooms/7421966</td>\n      <td>20160104002432</td>\n      <td>2016-01-04</td>\n      <td>Queen Anne Chateau</td>\n      <td>A charming apartment that sits atop Queen Anne...</td>\n      <td>NaN</td>\n      <td>A charming apartment that sits atop Queen Anne...</td>\n      <td>none</td>\n      <td>NaN</td>\n      <td>...</td>\n      <td>NaN</td>\n      <td>f</td>\n      <td>NaN</td>\n      <td>WASHINGTON</td>\n      <td>f</td>\n      <td>flexible</td>\n      <td>f</td>\n      <td>f</td>\n      <td>1</td>\n      <td>NaN</td>\n    </tr>\n    <tr>\n      <th>4</th>\n      <td>278830</td>\n      <td>https://www.airbnb.com/rooms/278830</td>\n      <td>20160104002432</td>\n      <td>2016-01-04</td>\n      <td>Charming craftsman 3 bdm house</td>\n      <td>Cozy family craftman house in beautiful neighb...</td>\n      <td>Cozy family craftman house in beautiful neighb...</td>\n      <td>Cozy family craftman house in beautiful neighb...</td>\n      <td>none</td>\n      <td>We are in the beautiful neighborhood of Queen ...</td>\n      <td>...</td>\n      <td>9.0</td>\n      <td>f</td>\n      <td>NaN</td>\n      <td>WASHINGTON</td>\n      <td>f</td>\n      <td>strict</td>\n      <td>f</td>\n      <td>f</td>\n      <td>1</td>\n      <td>0.89</td>\n    </tr>\n  </tbody>\n</table>\n<p>5 rows × 92 columns</p>\n</div>"
     },
     "metadata": {},
     "execution_count": 37
    }
   ],
   "source": [
    "# Read in Seattle dataset\n",
    "df_seattle = pd.read_csv('./_data/listings_seattle.csv')\n",
    "\n",
    "df_seattle.head()"
   ]
  },
  {
   "cell_type": "markdown",
   "metadata": {},
   "source": [
    "#### 2) Begin Understanding The Dataset\n",
    "\n",
    "While the head() method is useful, a more thorough understanding of all the available columns, datatypes, as well as profile of that data, is necessary before moving on to preparing the data for modeling.\n"
   ]
  },
  {
   "cell_type": "code",
   "execution_count": 38,
   "metadata": {
    "tags": []
   },
   "outputs": [
    {
     "output_type": "stream",
     "name": "stdout",
     "text": [
      "Dataframe Shape:(3585, 95)\nid:int64\nlisting_url:object\nscrape_id:int64\nlast_scraped:object\nname:object\nsummary:object\nspace:object\ndescription:object\nexperiences_offered:object\nneighborhood_overview:object\nnotes:object\ntransit:object\naccess:object\ninteraction:object\nhouse_rules:object\nthumbnail_url:object\nmedium_url:object\npicture_url:object\nxl_picture_url:object\nhost_id:int64\nhost_url:object\nhost_name:object\nhost_since:object\nhost_location:object\nhost_about:object\nhost_response_time:object\nhost_response_rate:object\nhost_acceptance_rate:object\nhost_is_superhost:object\nhost_thumbnail_url:object\nhost_picture_url:object\nhost_neighbourhood:object\nhost_listings_count:int64\nhost_total_listings_count:int64\nhost_verifications:object\nhost_has_profile_pic:object\nhost_identity_verified:object\nstreet:object\nneighbourhood:object\nneighbourhood_cleansed:object\nneighbourhood_group_cleansed:float64\ncity:object\nstate:object\nzipcode:object\nmarket:object\nsmart_location:object\ncountry_code:object\ncountry:object\nlatitude:float64\nlongitude:float64\nis_location_exact:object\nproperty_type:object\nroom_type:object\naccommodates:int64\nbathrooms:float64\nbedrooms:float64\nbeds:float64\nbed_type:object\namenities:object\nsquare_feet:float64\nprice:object\nweekly_price:object\nmonthly_price:object\nsecurity_deposit:object\ncleaning_fee:object\nguests_included:int64\nextra_people:object\nminimum_nights:int64\nmaximum_nights:int64\ncalendar_updated:object\nhas_availability:float64\navailability_30:int64\navailability_60:int64\navailability_90:int64\navailability_365:int64\ncalendar_last_scraped:object\nnumber_of_reviews:int64\nfirst_review:object\nlast_review:object\nreview_scores_rating:float64\nreview_scores_accuracy:float64\nreview_scores_cleanliness:float64\nreview_scores_checkin:float64\nreview_scores_communication:float64\nreview_scores_location:float64\nreview_scores_value:float64\nrequires_license:object\nlicense:float64\njurisdiction_names:float64\ninstant_bookable:object\ncancellation_policy:object\nrequire_guest_profile_picture:object\nrequire_guest_phone_verification:object\ncalculated_host_listings_count:int64\nreviews_per_month:float64\nDataframe Shape:(3818, 92)\nid:int64\nlisting_url:object\nscrape_id:int64\nlast_scraped:object\nname:object\nsummary:object\nspace:object\ndescription:object\nexperiences_offered:object\nneighborhood_overview:object\nnotes:object\ntransit:object\nthumbnail_url:object\nmedium_url:object\npicture_url:object\nxl_picture_url:object\nhost_id:int64\nhost_url:object\nhost_name:object\nhost_since:object\nhost_location:object\nhost_about:object\nhost_response_time:object\nhost_response_rate:object\nhost_acceptance_rate:object\nhost_is_superhost:object\nhost_thumbnail_url:object\nhost_picture_url:object\nhost_neighbourhood:object\nhost_listings_count:float64\nhost_total_listings_count:float64\nhost_verifications:object\nhost_has_profile_pic:object\nhost_identity_verified:object\nstreet:object\nneighbourhood:object\nneighbourhood_cleansed:object\nneighbourhood_group_cleansed:object\ncity:object\nstate:object\nzipcode:object\nmarket:object\nsmart_location:object\ncountry_code:object\ncountry:object\nlatitude:float64\nlongitude:float64\nis_location_exact:object\nproperty_type:object\nroom_type:object\naccommodates:int64\nbathrooms:float64\nbedrooms:float64\nbeds:float64\nbed_type:object\namenities:object\nsquare_feet:float64\nprice:object\nweekly_price:object\nmonthly_price:object\nsecurity_deposit:object\ncleaning_fee:object\nguests_included:int64\nextra_people:object\nminimum_nights:int64\nmaximum_nights:int64\ncalendar_updated:object\nhas_availability:object\navailability_30:int64\navailability_60:int64\navailability_90:int64\navailability_365:int64\ncalendar_last_scraped:object\nnumber_of_reviews:int64\nfirst_review:object\nlast_review:object\nreview_scores_rating:float64\nreview_scores_accuracy:float64\nreview_scores_cleanliness:float64\nreview_scores_checkin:float64\nreview_scores_communication:float64\nreview_scores_location:float64\nreview_scores_value:float64\nrequires_license:object\nlicense:float64\njurisdiction_names:object\ninstant_bookable:object\ncancellation_policy:object\nrequire_guest_profile_picture:object\nrequire_guest_phone_verification:object\ncalculated_host_listings_count:int64\nreviews_per_month:float64\n"
     ]
    }
   ],
   "source": [
    "# To be able to understand both datesets quickly, let's put them into a list\n",
    "df_list = [df_boston,df_seattle]\n",
    "\n",
    "# And see the overall shape of each data frame, column names, and column data types\n",
    "for dataframe in df_list:\n",
    "    print(\"Dataframe Shape:{}\".format(dataframe.shape))\n",
    "    for col in dataframe:\n",
    "        print(\"{}:{}\".format(col,dataframe[col].dtypes))"
   ]
  },
  {
   "cell_type": "markdown",
   "metadata": {},
   "source": [
    "\n",
    "##### Initial Observations & Project To-Dos\n",
    "\n",
    "- [x]  ID Cols\n",
    "\n",
    "Dataframe contains numerous id, url, and scarpe columns which will likely serve no purpose. For example:\n",
    "\n",
    "- [x]  Intersecting Columns\n",
    "\n",
    "Columns between Boston and Seattle are not the same. For later model extensibility, additional columns in one dataset or another should be eliminated. Only intersecting columns should be left.\n",
    "\n",
    "- [x]  Text Columns\n",
    "\n",
    "Many columns contain substantial text. This project will require some form of text analytics to create understanding from these columns.\n",
    "\n",
    "- [ ]  Date Columns\n",
    "\n",
    "Date columns should be transformed into something understandable for a linear regression model. For instance, 'calendar_updated' may be 'days_since_calendar_updated'.\n"
   ]
  },
  {
   "source": [
    "#### 2) Data Preperation\n",
    "In this section, we will be using our above observations to guide both the initial cleansing of our data, as well as initial transformations for feature creation.\n",
    "\n",
    "**Column Cleansing**\n",
    "***\n",
    "\n",
    "We'll start with the data cleansing process on the columns. This will largely involve removing:\n",
    "\n",
    "- [x]  100% empty\n",
    "- [x]  Columns with 100% of the same value\n",
    "- [x]  Database identifications\n",
    "- [x]  Non-overlapping columns"
   ],
   "cell_type": "markdown",
   "metadata": {}
  },
  {
   "cell_type": "code",
   "execution_count": 39,
   "metadata": {},
   "outputs": [],
   "source": [
    "# Start with dropping columns in all data sets that are 100% na\n",
    "for dataframe in df_list:\n",
    "    dataframe.dropna(axis = 1, how = 'all',inplace = True)"
   ]
  },
  {
   "cell_type": "code",
   "execution_count": 40,
   "metadata": {},
   "outputs": [],
   "source": [
    "# Remove the unnecssary id, url, and scraping columns\n",
    "def drop_ident_columns(dataframe_list,word_list):\n",
    "    for dataframe in dataframe_list:\n",
    "        for word in word_list:\n",
    "            drop_columns = [col for col in dataframe.columns if col.endswith(word)]\n",
    "            dataframe.drop(drop_columns, axis = 1,inplace = True)\n",
    "\n",
    "# Define search words to drop common identification column suffixes\n",
    "search_words = ['_id','_url','_scraped']\n",
    "\n",
    "# Invoke function to drop id, url, and scraping columns\n",
    "drop_ident_columns(df_list,search_words)"
   ]
  },
  {
   "cell_type": "code",
   "execution_count": 41,
   "metadata": {
    "tags": []
   },
   "outputs": [],
   "source": [
    "# Remove columns where all values are the same (equivalant of 100% empty)\n",
    "def drop_same_columns(dataframe_list):\n",
    "    for dataframe in dataframe_list:\n",
    "        nunique = dataframe.apply(pd.Series.nunique)\n",
    "        drop_columns = nunique[nunique ==1].index\n",
    "        dataframe.drop(drop_columns, axis = 1,inplace = True)\n",
    "\n",
    "# Invoke function to drop any columns containing rows with 100% the same data point\n",
    "drop_same_columns(df_list)"
   ]
  },
  {
   "cell_type": "code",
   "execution_count": 42,
   "metadata": {
    "tags": []
   },
   "outputs": [
    {
     "output_type": "execute_result",
     "data": {
      "text/plain": [
       "True"
      ]
     },
     "metadata": {},
     "execution_count": 42
    }
   ],
   "source": [
    "# Drop columns which do not overlap between the two datasets\n",
    "def drop_nonoverlap_columns(df1,df2):\n",
    "    # Find overlapping/instersecting columns between the two datasets\n",
    "    intersecting_columns = set(df1.columns) & set(df2.columns)\n",
    "\n",
    "    # Assign each dataset it's own drop columns based off the complete list of intersections\n",
    "    for dataframe in df1, df2:\n",
    "        drop_columns = set(dataframe.columns) - intersecting_columns\n",
    "        dataframe.drop(drop_columns, axis = 1, inplace = True)\n",
    "\n",
    "# Invoke function to drop non-overlapping columns between two datasets    \n",
    "drop_nonoverlap_columns(df_boston,df_seattle)\n",
    "\n",
    "# Check to make sure all columns are overlapping between dataframes\n",
    "sum((df_boston.columns == df_seattle.columns)) / ((len(df_boston.columns) + len(df_seattle.columns)) / 2 ) == 1"
   ]
  },
  {
   "cell_type": "markdown",
   "metadata": {},
   "source": [
    "**Row & Data Cleansing**\n",
    "***\n",
    "Next, we'll move into basic *row cleansing* for items we know will break a linear regression model. This includes:\n",
    "\n",
    "- [x]  True/False - transform to a true boolean rather than text \"t\" or \"f\".\n",
    "- [x]  Substantial Text - must be transformed into a text analytics feature.\n",
    "- [ ]  Date Columns - drop or transform into a duration if business questions warrant."
   ]
  },
  {
   "cell_type": "code",
   "execution_count": 43,
   "metadata": {
    "tags": []
   },
   "outputs": [],
   "source": [
    "# Function to clean t/f columns to true Booleans\n",
    "def cleanse_data_tf_to_boolean(dataframe_list):\n",
    "\n",
    "    for dataframe in dataframe_list:\n",
    "\n",
    "        column_list = []\n",
    "\n",
    "        for col in dataframe.columns:\n",
    "            if sum(dataframe[col].isin(['t','f'])) == len(dataframe[col]):\n",
    "                column_list.append(col)\n",
    "\n",
    "        for col in column_list:\n",
    "            dataframe.loc[(dataframe[col] == 't'),col] = True\n",
    "            dataframe.loc[(dataframe[col] == 'f'),col] = False\n",
    "\n",
    "# Invoke function to change 't' or 'f' to true Boolean values\n",
    "cleanse_data_tf_to_boolean(df_list)"
   ]
  },
  {
   "cell_type": "code",
   "execution_count": 44,
   "metadata": {
    "tags": []
   },
   "outputs": [],
   "source": [
    "#  Define text columns which require processing for text analytics\n",
    "text_cols = ['name','summary','space','description','neighborhood_overview', 'notes']\n",
    "\n",
    "# Begin text mining by defining stop words and lemmatizer dictionary\n",
    "stop_words = stopwords.words(\"english\")\n",
    "lemmatizer = WordNetLemmatizer()\n",
    "\n",
    "# Function to perform basic tokenization of text columns\n",
    "def tokenize(text):\n",
    "    # normalize case and remove punctuation\n",
    "    text = re.sub(r\"[^a-zA-Z0-9]\", \" \", text.lower())\n",
    "    \n",
    "    # tokenize text\n",
    "    tokens = word_tokenize(text)\n",
    "    \n",
    "    # lemmatize andremove stop words\n",
    "    tokens = [lemmatizer.lemmatize(word) for word in tokens if word not in stop_words]\n",
    "\n",
    "    return tokens\n",
    "\n",
    "# Loop through dataframes and text cols to tokenize\n",
    "def tokenize_text_cols(dataframe_list):\n",
    "\n",
    "    for dataframe in dataframe_list:\n",
    "        for col in text_cols:\n",
    "            colname = col + '_tokenized'\n",
    "            dataframe[colname] = dataframe[col].apply(str).apply(tokenize)\n",
    "\n",
    "# Invoke tokenization as add columns in both dataframes\n",
    "tokenize_text_cols(df_list)"
   ]
  },
  {
   "cell_type": "markdown",
   "metadata": {},
   "source": [
    "#### 4. Data Modeling\n",
    "\n",
    "[Outline placeholder for data modeling section]"
   ]
  },
  {
   "cell_type": "markdown",
   "metadata": {},
   "source": [
    "#### 5. Evaluation\n",
    "\n",
    "[Outline placeholder for evaluation of model and possible re-modeling]"
   ]
  },
  {
   "cell_type": "markdown",
   "metadata": {},
   "source": [
    "#### 6. Deployment\n",
    "\n",
    "[Outline placeholder for what deployment steps would be]"
   ]
  },
  {
   "cell_type": "markdown",
   "metadata": {},
   "source": [
    "#### 7. Conclusion\n",
    "\n",
    "[Outline placeholder for final remarks]"
   ]
  }
 ]
}